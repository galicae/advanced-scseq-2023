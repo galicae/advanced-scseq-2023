{
 "cells": [
  {
   "attachments": {},
   "cell_type": "markdown",
   "metadata": {},
   "source": [
    "# Preparation\n",
    "\n",
    "In this notebook I will save the commands that generated the `conda` environment and prepare the single-cell datasets."
   ]
  },
  {
   "cell_type": "code",
   "execution_count": 1,
   "metadata": {},
   "outputs": [],
   "source": [
    "import anndata as ad\n",
    "import pandas as pd"
   ]
  },
  {
   "attachments": {},
   "cell_type": "markdown",
   "metadata": {},
   "source": [
    "set up our base directories:"
   ]
  },
  {
   "cell_type": "code",
   "execution_count": null,
   "metadata": {},
   "outputs": [],
   "source": [
    "retina = \"/Users/npapadop/Documents/teaching/2023/advanced_scRNAseq/data/chicken retina/\""
   ]
  },
  {
   "attachments": {},
   "cell_type": "markdown",
   "metadata": {},
   "source": [
    "Create the retina object from the raw matrices; add the metadata given by the authors."
   ]
  },
  {
   "cell_type": "code",
   "execution_count": null,
   "metadata": {},
   "outputs": [],
   "source": [
    "adata = ad.read_csv(retina + \"Chick_retina_atlas_expression_matrix.csv\").T\n",
    "metadata = pd.read_csv(retina + \"Chick_retina_atlas_meta.csv\")\n",
    "metadata.drop(0, inplace=True)\n",
    "\n",
    "adata.obs = metadata.set_index(\"NAME\")\n",
    "adata.obs.index.name = \"index\"\n",
    "adata.obs[\"chicken\"] = adata.obs.index.str.split(\"_\").str[0].str[7:].values\n",
    "\n",
    "adata.write_h5ad(retina + \"chicken_retina.h5ad\")"
   ]
  }
 ],
 "metadata": {
  "kernelspec": {
   "display_name": "work",
   "language": "python",
   "name": "python3"
  },
  "language_info": {
   "codemirror_mode": {
    "name": "ipython",
    "version": 3
   },
   "file_extension": ".py",
   "mimetype": "text/x-python",
   "name": "python",
   "nbconvert_exporter": "python",
   "pygments_lexer": "ipython3",
   "version": "3.9.16"
  },
  "orig_nbformat": 4
 },
 "nbformat": 4,
 "nbformat_minor": 2
}

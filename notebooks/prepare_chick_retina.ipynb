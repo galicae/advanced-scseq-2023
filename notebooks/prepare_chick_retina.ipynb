{
 "cells": [
  {
   "attachments": {},
   "cell_type": "markdown",
   "metadata": {},
   "source": [
    "# Preparation\n",
    "\n",
    "In this notebook I will prepare h5ad files from the raw chick data matrices."
   ]
  },
  {
   "cell_type": "code",
   "execution_count": 1,
   "metadata": {},
   "outputs": [],
   "source": [
    "import anndata as ad\n",
    "import pandas as pd\n",
    "import numpy as np"
   ]
  },
  {
   "attachments": {},
   "cell_type": "markdown",
   "metadata": {},
   "source": [
    "set up our base directories:"
   ]
  },
  {
   "cell_type": "code",
   "execution_count": 2,
   "metadata": {},
   "outputs": [],
   "source": [
    "retina = \"/Users/npapadop/Documents/teaching/2023/advanced_scRNAseq/data/chicken retina/\""
   ]
  },
  {
   "attachments": {},
   "cell_type": "markdown",
   "metadata": {},
   "source": [
    "Create the retina object from the raw matrices; use the authors' metadata to keep good cells only."
   ]
  },
  {
   "cell_type": "code",
   "execution_count": 3,
   "metadata": {},
   "outputs": [],
   "source": [
    "metadata = pd.read_csv(retina + \"Chick_retina_atlas_meta.csv\")\n",
    "metadata.drop(0, inplace=True)\n",
    "\n",
    "# read in E12\n",
    "tmp = ad.read_csv(retina + \"GSE159107_E12chick_count.matrix.csv\").T\n",
    "e12 = tmp.copy()\n",
    "e12.write_h5ad(retina + \"e12_raw.h5ad\")\n",
    "\n",
    "# read in E16\n",
    "tmp = ad.read_csv(retina + \"GSE159107_E16chick_count.matrix.csv\").T\n",
    "keep = np.intersect1d(tmp.obs.index, metadata[\"NAME\"])\n",
    "e16 = tmp[keep].copy()\n",
    "e16.write_h5ad(retina + \"e16_raw.h5ad\")\n",
    "\n",
    "# read in E18\n",
    "tmp = ad.read_csv(retina + \"GSE159107_E18chick_count.matrix.csv\").T\n",
    "keep = np.intersect1d(tmp.obs.index, metadata[\"NAME\"])\n",
    "e18 = tmp[keep].copy()\n",
    "e18.write_h5ad(retina + \"e18_raw.h5ad\")"
   ]
  },
  {
   "cell_type": "code",
   "execution_count": null,
   "metadata": {},
   "outputs": [],
   "source": [
    "# adata.obs = metadata.set_index(\"NAME\")\n",
    "# adata.obs.index.name = \"index\"\n",
    "# adata.obs[\"chicken\"] = adata.obs.index.str.split(\"_\").str[0].str[7:].values\n",
    "# adata.obs[\"coarse\"] = adata.obs[\"Cluster\"].str.split(\"-\").str[0].values\n",
    "\n",
    "# adata.write_h5ad(retina + \"chicken_retina.h5ad\")"
   ]
  }
 ],
 "metadata": {
  "kernelspec": {
   "display_name": "work",
   "language": "python",
   "name": "python3"
  },
  "language_info": {
   "codemirror_mode": {
    "name": "ipython",
    "version": 3
   },
   "file_extension": ".py",
   "mimetype": "text/x-python",
   "name": "python",
   "nbconvert_exporter": "python",
   "pygments_lexer": "ipython3",
   "version": "3.9.16"
  },
  "orig_nbformat": 4
 },
 "nbformat": 4,
 "nbformat_minor": 2
}

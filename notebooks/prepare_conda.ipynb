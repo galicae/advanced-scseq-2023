{
 "cells": [
  {
   "attachments": {},
   "cell_type": "markdown",
   "metadata": {},
   "source": [
    "# Setting up the conda environment\n",
    "\n",
    "In this notebook I will set up the `conda` environment for the project. It is mostly a run-of-the-mill Python `scanpy` environment with extra packages for integration and cross-species comparisons thrown in. I will be using `mamba` instead of `conda`, but the two are interchangeable.\n",
    "\n",
    "### Install conda/mamba\n",
    "\n",
    "(I assume this is already taken care of)\n",
    "\n",
    "### Create environment\n",
    "\n",
    "There are two rules for choosing a name. First, and most important, the name should help you remember what this environment was supposed to achieve. You will definitely need this when you look back at your conda environments three months after finishing with a project. Second, and this is more of a personal preference, the name should be easy/fast to type. If you switch up between different conda environments a lot you will appreciate their names being short.\n",
    "\n",
    "```\n",
    "> mamba create -n ascc23\n",
    "> mamba activate ascc23\n",
    "```\n",
    "\n",
    "### Install python\n",
    "\n",
    "Our environment is first and foremost a Python environment, so we should install this first.\n",
    "\n",
    "```\n",
    "> mamba install python=3.9\n",
    "```\n",
    "\n",
    "### Install single-cell basics\n",
    "\n",
    "We will now install `scanpy`, the most important package for the Python single-cell analysis ecosystem. Scanpy has a lot of important dependencies, so by installing it first we will get them in the appropriate versions.\n",
    "\n",
    "```\n",
    "> mamba install -c conda-forge scanpy python-igraph leidenalg\n",
    "```\n",
    "\n",
    "### Install jupyterlab & plotting\n",
    "\n",
    "Plotting is one area where R is much better than python, though the situation has improved a lot in the last years. Scanpy comes with `matplotlib-basics`, but we might be needing the full suite. Plus, `seaborn` has some excellent out-of-the-box plots that will be very useful once we get to integration and cross-species comparisons.\n",
    "\n",
    "```\n",
    "> mamba install -c conda-forge jupyterlab matplotlib seaborn\n",
    "```\n",
    "\n",
    "### "
   ]
  }
 ],
 "metadata": {
  "language_info": {
   "name": "python"
  },
  "orig_nbformat": 4
 },
 "nbformat": 4,
 "nbformat_minor": 2
}

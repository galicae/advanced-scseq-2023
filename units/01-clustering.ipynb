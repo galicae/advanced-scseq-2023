{
 "cells": [
  {
   "attachments": {},
   "cell_type": "markdown",
   "metadata": {},
   "source": [
    "# Cell types and clustering\n",
    "\n",
    "(working backwards from a mind map that I made)\n",
    "\n"
   ]
  },
  {
   "attachments": {},
   "cell_type": "markdown",
   "metadata": {},
   "source": [
    "At the end of the unit, students should be able to...\n",
    "\n",
    "1. List some definitions of \"cell type\"\n",
    "1. Explain the principle of clustering in the context of unsupervised analysis/single-cell RNA-seq\n",
    "1. Explain how we might get from a cells $\\times$ genes matrix to a clustering\n",
    "1. List ways of calculating cell-cell similarity\n",
    "1. Explain their preference for one\n",
    "1. Produce different clusterings in a single-cell RNA-seq data object\n",
    "1. Produce a cell type tree\n",
    "1. Work with the CT tree to identify putative CT families"
   ]
  },
  {
   "attachments": {},
   "cell_type": "markdown",
   "metadata": {},
   "source": [
    "## 1. List some definitions of \"cell type\"\n",
    "\n",
    "Possible references:\n",
    "- Thomas Schwaha and his lecture\n",
    "- [What is a cell type and how to define it?](https://doi.org/10.1016/j.cell.2022.06.031)\n",
    "- [Cell types as species: exploring a metaphor](https://doi.org/10.3389/fpls.2022.868565)\n",
    "- [The origin and evolution of cell types](https://doi.org/10.1038/nrg.2016.127)\n",
    "- [What Is Your Conceptual Definition of ‘‘Cell Type’’ in the Context of a Mature Organism?](https://doi.org/10.1016/j.cels.2017.03.006)\n",
    "\n",
    "Discuss morphological, electrophysiological, evolutionary, transcriptional, epigenetic, functional, developmental definitions.\n",
    "\n",
    "When the data we have is transcriptomics measurements, what signals do we expect in the data?"
   ]
  },
  {
   "attachments": {},
   "cell_type": "markdown",
   "metadata": {},
   "source": [
    "## 2. Explain the principle of clustering and why it is so important for unsupervised analysis\n",
    "\n",
    "> Task of grouping a set of objects in such a way that objects in the same group (cluster) are more similar, in some sense, to each other than to objects in other groups."
   ]
  },
  {
   "attachments": {},
   "cell_type": "markdown",
   "metadata": {},
   "source": [
    "## Explore and perform clustering in the context of single-cell RNA-seq data\n",
    "\n",
    "What algorithmic choices do we have for cluster detection? What are they good at? What are they bad at? (run sklearn tutorial; this will also help them practice plotting.)\n",
    "\n",
    "How does that connect to the concepts/ideas that we have about cell types? What do we expect? How can we control for it?\n",
    "\n",
    "Use gold standard datasets from [Kiselev _et al._](https://doi.org/10.1038/Nmeth.4236) to explore various clustering techniques and ideas. Stress negative controls! Introduce precision/recall curve, discuss trade-offs. Challenge students to search the literature.\n",
    "\n",
    "Introduce actionable clustering concept; see [Valentin Svensson's blog post](https://www.nxn.se/valent/2018/3/5/actionable-scrna-seq-clusters) and [Jean Fang's blot post](http://jef.works/blog/2018/02/28/stability-testing/). Introduce [ROGUE](https://github.com/PaulingLiu/ROGUE) for cluster purity, [SC3](http://bioconductor.org/packages/release/bioc/html/SC3.html) for consensus clustering. Challenge them to find metrics that will get them a quantitative/qualitative agreement between different clustering approaches/different combinations of parameters per clustering function.\n",
    "\n",
    "Speak about the dangers of overfitting."
   ]
  },
  {
   "attachments": {},
   "cell_type": "markdown",
   "metadata": {},
   "source": [
    "## 3. Perform clustering "
   ]
  },
  {
   "attachments": {},
   "cell_type": "markdown",
   "metadata": {},
   "source": [
    "## 3. List ways of calculating cell-cell similarity, explain why this might be important\n",
    "\n",
    "different metrics\n",
    "- cosine\n",
    "- euclidean\n",
    "- correlation\n",
    "- others?\n",
    "\n",
    "different feature subsets\n",
    "- all genes/HVG\n",
    "- raw/normalised\n",
    "- transformed (log1p/sqrt, etc.)\n",
    "\n",
    "different embeddings\n",
    "- PCA\n",
    "- CCA\n",
    "- LLE\n",
    "- diffusion maps\n",
    "- NMF\n",
    "- raw\n",
    "- spectral decomposition\n",
    "- UMAP\n",
    "- tSNE\n",
    "\n",
    "introduce them to the idea of negative tests! Why might UMAP/tSNE be misleading? Show circle examples, use simple datasets from visualisation paper."
   ]
  },
  {
   "attachments": {},
   "cell_type": "markdown",
   "metadata": {},
   "source": [
    "\n",
    "\n",
    "#### explain their preference for one\n",
    "\n",
    "math makes sense/looks good/fast/agrees with what we know/everyone does it/???\n",
    "\n",
    "#### Produce a cell type family tree\n",
    "\n",
    "Calculate and plot a bootstrapped neighbour-joining tree of all cell type clusters.\n",
    "\n",
    "#### Use a cell type tree to identify cell type families\n",
    "\n",
    "Explain which parts of the tree they trust and which not. Explain why they kept or excluded certain clusters. Use tree to define cell type families. Produce dotplot of CT family characteristic gene expression, combine with literature evidence."
   ]
  }
 ],
 "metadata": {
  "language_info": {
   "name": "python"
  },
  "orig_nbformat": 4
 },
 "nbformat": 4,
 "nbformat_minor": 2
}

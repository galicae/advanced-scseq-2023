{
 "cells": [
  {
   "attachments": {},
   "cell_type": "markdown",
   "metadata": {},
   "source": [
    "# Cell types and clustering\n",
    "\n",
    "(working backwards from a mind map that I made)\n",
    "\n"
   ]
  },
  {
   "attachments": {},
   "cell_type": "markdown",
   "metadata": {},
   "source": [
    "At the end of the course, students should be able to...\n",
    "\n",
    "#### List some definitions of cell types\n",
    "\n",
    "morphological, electrophysiological, evolutionary, transcriptional, etc. Encourage them to find more!\n",
    "\n",
    "#### Explain the principle of clustering and why it is so important for unsupervised analysis\n",
    "\n",
    "improve signal/noise ratio?\n",
    "\n",
    "#### List ways of calculating cell-cell similarity, explain why this might be important\n",
    "\n",
    "different metrics\n",
    "- cosine\n",
    "- euclidean\n",
    "- correlation\n",
    "- others?\n",
    "\n",
    "different feature subsets\n",
    "- all genes/HVG\n",
    "- raw/normalised\n",
    "- transformed (log1p/sqrt, etc.)\n",
    "\n",
    "different embeddings\n",
    "- PCA\n",
    "- CCA\n",
    "- LLE\n",
    "- diffusion maps\n",
    "- NMF\n",
    "- raw\n",
    "- spectral decomposition\n",
    "- UMAP\n",
    "- tSNE\n",
    "\n",
    "introduce them to the idea of negative tests! Why might UMAP/tSNE be misleading? Show circle examples, use simple datasets from visualisation paper.\n",
    "\n",
    "#### explain their preference for one\n",
    "\n",
    "math makes sense/looks good/fast/agrees with what we know/everyone does it/???\n",
    "\n",
    "#### Produce a cell type family tree\n",
    "\n",
    "Calculate and plot a bootstrapped neighbour-joining tree of all cell type clusters.\n",
    "\n",
    "#### Use a cell type tree to identify cell type families\n",
    "\n",
    "Explain which parts of the tree they trust and which not. Explain why they kept or excluded certain clusters. Use tree to define cell type families. Produce dotplot of CT family characteristic gene expression, combine with literature evidence."
   ]
  }
 ],
 "metadata": {
  "language_info": {
   "name": "python"
  },
  "orig_nbformat": 4
 },
 "nbformat": 4,
 "nbformat_minor": 2
}

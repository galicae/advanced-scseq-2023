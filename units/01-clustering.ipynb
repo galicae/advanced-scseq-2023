{
 "cells": [
  {
   "attachments": {},
   "cell_type": "markdown",
   "metadata": {},
   "source": [
    "# Cell types and clustering\n",
    "\n",
    "(working backwards from a mind map that I made)\n",
    "\n"
   ]
  },
  {
   "attachments": {},
   "cell_type": "markdown",
   "metadata": {},
   "source": [
    "At the end of the unit, students should be able to...\n",
    "\n",
    "1. List some definitions of \"cell type\"\n",
    "1. Explain what clustering is and why it makes sense for scRNA-seq.\n",
    "1. How do we get from a cells $\\times$ genes matrix to a clustering?\n",
    "1. List ways of calculating cell-cell similarity\n",
    "1. Explain their preference for one\n",
    "1. Produce a cell type tree\n",
    "1. Work with the CT tree to identify putative CT families"
   ]
  },
  {
   "attachments": {},
   "cell_type": "markdown",
   "metadata": {},
   "source": [
    "## 1. List some definitions of \"cell type\"\n",
    "\n",
    "Possible references:\n",
    "- Thomas Schwaha and his lecture\n",
    "- [What is a cell type and how to define it?](https://doi.org/10.1016/j.cell.2022.06.031)\n",
    "- [Cell types as species: exploring a metaphor](https://doi.org/10.3389/fpls.2022.868565)\n",
    "- [The origin and evolution of cell types](https://doi.org/10.1038/nrg.2016.127)\n",
    "- [What Is Your Conceptual Definition of ‘‘Cell Type’’ in the Context of a Mature Organism?](https://doi.org/10.1016/j.cels.2017.03.006)\n",
    "\n",
    "Discuss morphological, electrophysiological, evolutionary, transcriptional, epigenetic, functional, developmental definitions.\n",
    "\n",
    "When the data we have is transcriptomics measurements, what signals do we expect in the data?"
   ]
  },
  {
   "attachments": {},
   "cell_type": "markdown",
   "metadata": {},
   "source": [
    "## 2. Theory of clustering\n",
    "### What is it and why does it make sense in the context of scRNA-seq?\n",
    "\n",
    "> Task of grouping a set of objects in such a way that objects in the same group (cluster) are more similar, in some sense, to each other than to objects in other groups.\n",
    "\n",
    "clustering is often used when we only have a vague or no idea of what to expect; if we knew what to expect it would be a classification problem instead. By clustering and then figuring out what each cluster is we break the problem down into a number of smaller problems.\n",
    "\n",
    "Hand out smaller problems (iris dataset? Penguin dataset?) and explore the most common clustering strategies (k-means, DBSCAN, agglomerative?) or, even better, have the students come up with ideas about clustering! we could build our own clustering algorithm and then test it against the established ones."
   ]
  },
  {
   "attachments": {},
   "cell_type": "markdown",
   "metadata": {},
   "source": [
    "## 3. Explore and perform clustering in the context of single-cell RNA-seq data\n",
    "\n",
    "What algorithmic choices do we have for cluster detection? What are they good at? What are they bad at? (run sklearn tutorial; this will also help them practice plotting.)\n",
    "\n",
    "How does that connect to the concepts/ideas that we have about cell types? What do we expect? How can we control for it?\n",
    "\n",
    "Use gold standard datasets from [Kiselev _et al._](https://doi.org/10.1038/Nmeth.4236) to explore various clustering techniques and ideas. Stress negative controls! Introduce precision/recall curve, discuss trade-offs. Challenge students to search the literature.\n",
    "\n",
    "Introduce actionable clustering concept; see [Valentin Svensson's blog post](https://www.nxn.se/valent/2018/3/5/actionable-scrna-seq-clusters) and [Jean Fang's blot post](http://jef.works/blog/2018/02/28/stability-testing/). Introduce [ROGUE](https://github.com/PaulingLiu/ROGUE) for cluster purity, [SC3](http://bioconductor.org/packages/release/bioc/html/SC3.html) for consensus clustering. Challenge them to find metrics that will get them a quantitative/qualitative agreement between different clustering approaches/different combinations of parameters per clustering function.\n",
    "\n",
    "Speak about the dangers of overfitting."
   ]
  },
  {
   "attachments": {},
   "cell_type": "markdown",
   "metadata": {},
   "source": [
    "## 4. List ways of calculating cell-cell similarity, explain why this might be important\n",
    "\n",
    "different metrics (cosine, euclidean, correlation, others), different feature subsets (all genes/HVG,  raw/normalised,  transformed, log1p/sqrt, etc.), different embeddings (PCA, CCA, LLE, diffusion maps, NMF, raw, spectral decomposition, UMAP, tSNE).\n",
    "\n",
    "introduce them to the idea of negative tests! Why might UMAP/tSNE be misleading? Show circle examples, use simple datasets from visualisation paper."
   ]
  },
  {
   "attachments": {},
   "cell_type": "markdown",
   "metadata": {},
   "source": [
    "## 5. Explain their preference for one\n",
    "\n",
    "I want the students to develop an intuition for how distances work in single-cell land. I want them to understand that everything is a heuristic. I want them to get a feeling for how euclidean distances work in very high-dimensional spaces. Can we simulate data that suffers from high dimensionality and demonstrate that euclidean distances smother differences? How does that affect single-cell data?"
   ]
  },
  {
   "attachments": {},
   "cell_type": "markdown",
   "metadata": {},
   "source": [
    "## 6. Produce a cell type tree\n",
    "\n",
    "Apply the evolutionary theory of cell types to cluster analysis. The theory predicts that a common mechanism for the evolution of cell types is duplication and subfunctionalisation. This implies a hierarchical structure, similar to how species are related in phylogenies. This means that a tree is a good (approximate) description of the relationships between cell types. If we pretend that every cluster that we have is a meaningful biological entity, how can we quantify, visualize, and examine the relationships between cell types/clusters? Go to the Spongilla dataset for that.\n",
    "\n",
    "Introduce the concept of neighbour-joining. Ask about their tree experiences. Build different kinds of distance matrices. Speak about tree comparisons. Use the `ape` package in R to make NJ trees. Visualize them, including coloring the nodes. Scale the branch lengths to improve visualisation."
   ]
  },
  {
   "attachments": {},
   "cell_type": "markdown",
   "metadata": {},
   "source": [
    "## 7. Work with a CT tree to identify putative CT families\n",
    "\n",
    "Explain which parts of the tree they trust and which not. Explain why they kept or excluded certain clusters. Use tree to define cell type families. Produce dotplot of CT family characteristic gene expression, combine with literature evidence."
   ]
  }
 ],
 "metadata": {
  "language_info": {
   "name": "python"
  },
  "orig_nbformat": 4
 },
 "nbformat": 4,
 "nbformat_minor": 2
}

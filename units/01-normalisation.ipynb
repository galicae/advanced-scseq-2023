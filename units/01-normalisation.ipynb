{
 "cells": [
  {
   "cell_type": "code",
   "execution_count": null,
   "metadata": {},
   "outputs": [],
   "source": [
    "from datetime import date\n",
    "print(date.today())"
   ]
  },
  {
   "attachments": {},
   "cell_type": "markdown",
   "metadata": {},
   "source": [
    "# Normalisation and variance stabilisation\n",
    "\n"
   ]
  },
  {
   "cell_type": "markdown",
   "metadata": {},
   "source": [
    "# 1. Normalisation\n",
    "\n",
    "Objectives: \n",
    "\n",
    "1. Explain rationale behind normalisation/variance stabilisation\n",
    "1. List options for normalisation/variance stabilisation\n",
    "1. Explain their preference for one\n",
    "1. Normalise a dataset\n",
    "1. Demonstrate that the normalisation achieved the intended effect\n",
    "\n",
    "### 1.1 Why is normalisation important?\n",
    "\n",
    "- have students run without normalisation and see what happens.\n",
    "- does normalisation distort/enhance biological signal?\n",
    "- literature about normalisation:\n",
    "    - [Comparison of transformations for single-cell RNA-seq data](https://www.nature.com/articles/s41592-023-01814-1)\n",
    "    - [Validation of noise models for single-cell transcriptomics](https://www.nature.com/articles/nmeth.2930)\n",
    "    - [The triumphs and limitations of computational methods for scRNA-seq](https://www.nature.com/articles/s41592-021-01171-x)\n",
    "\n",
    "### 1.2 How do we normalise?\n",
    "\n",
    "- challenge them to think about what we need. What does it mean if we normalise?\n",
    "- What do we want to achieve with normalisation? Do we get it?\n",
    "- Literature:\n",
    "    - [Normalisation of single-cell RNA-seq counts by log(x+1)](https://academic.oup.com/bioinformatics/article/37/15/2223/6155989)\n",
    "    - [Normalization and variance stabilization of single-cell RNA-seq data using regularized negative binomial regression](https://genomebiology.biomedcentral.com/articles/10.1186/s13059-019-1874-1)\n",
    "    - [Depth normalization for single-cell genomics count data](https://www.biorxiv.org/content/10.1101/2022.05.06.490859v1.full)\n",
    "\n",
    "### 1.3 How do we evaluate if it worked?\n",
    "\n",
    "- gold standard\n",
    "- simulated data\n",
    "- expert knowledge"
   ]
  },
  {
   "cell_type": "code",
   "execution_count": null,
   "metadata": {},
   "outputs": [],
   "source": []
  },
  {
   "cell_type": "code",
   "execution_count": null,
   "metadata": {},
   "outputs": [],
   "source": []
  }
 ],
 "metadata": {
  "kernelspec": {
   "display_name": "work",
   "language": "python",
   "name": "python3"
  },
  "language_info": {
   "codemirror_mode": {
    "name": "ipython",
    "version": 3
   },
   "file_extension": ".py",
   "mimetype": "text/x-python",
   "name": "python",
   "nbconvert_exporter": "python",
   "pygments_lexer": "ipython3",
   "version": "3.10.9"
  },
  "orig_nbformat": 4,
  "vscode": {
   "interpreter": {
    "hash": "64ce7fb165e1a2600518e5e3d72bce86c7114d02ad941d347db3b54b409249ec"
   }
  }
 },
 "nbformat": 4,
 "nbformat_minor": 2
}

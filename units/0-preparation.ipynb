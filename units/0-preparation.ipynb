{
 "cells": [
  {
   "cell_type": "code",
   "execution_count": 1,
   "metadata": {},
   "outputs": [
    {
     "name": "stdout",
     "output_type": "stream",
     "text": [
      "2023-03-15\n"
     ]
    }
   ],
   "source": [
    "from datetime import date\n",
    "print(date.today())"
   ]
  },
  {
   "attachments": {},
   "cell_type": "markdown",
   "metadata": {},
   "source": [
    "# Concepts\n",
    "\n",
    "## Pre-course survey evaluation\n",
    "\n",
    "The University of Vienna doesn't allow the specification of prerequisites for courses; therefore, it may well be that I can't demand that students have any prior experience with single-cell transcriptomics, even though this is supposed to be an advanced course. I assessed the students' expertise and expectations via a [pre-course survey](https://forms.gle/GdBvcCoLnkAgXLy17). Here are my main takeaways:\n",
    "\n",
    "- I can't expect too much technical expertise. The students' background is very varied, ranging from experts to absolute newbies.\n",
    "- Half of the students have not attended any of the somewhat relevant courses in the faculty curriculum.\n",
    "- The students consider themselves to be at least acquainted with statistics.\n",
    "- The students mostly don't know linear algebra.\n",
    "- Programming proficiency is all over the place.\n",
    "- Students view this as an introductory course; most hope to learn something they can use in their work.\n",
    "- Students are somewhat familiar with point-and-click software.\n",
    "- Students do not use version control often or at all.\n",
    "- Many students are familiar with the command line and use it quite often.\n",
    "- Students feel relatively confident in their ability to write simple scripts, and their ability to troubleshoot online. They feel less confident about overcoming problems if they are stuck. This may indicate that they feel their programming ability is shallow.\n",
    "\n",
    "## How does that inform my preparation?\n",
    "\n",
    "Taking the inhomogeneous level of the students into account I have two choices:\n",
    "\n",
    "1. Do a two-speed course where the novices grapple with basic concepts and the advanced students can attack advanced material on their own.\n",
    "2. Keep the \"advanced\" part on the theoretical side: pick a few important topics and cover them in depth, challenging the students to understand the important concepts.\n",
    "\n",
    "Since this is a practical course it is of course also important that there is a hands-on portion, and that the students also practice the mechanical/technical aspect. However, I'd like to avoid wasting time on software installation, as everyone will be bringing their own laptops and a very different background.\n",
    "\n",
    "## What did I choose and why?\n",
    "\n",
    "For the first iteration of the course, I decided to go ahead with option 2), focus on a smaller range of topics and cover them in-depth rather than giving the students recipes. One aspect is technical; I have no clue how versed the students _really_ are, and I'd rather be positively surprised and breeze through the course than overwhelm them."
   ]
  },
  {
   "attachments": {},
   "cell_type": "markdown",
   "metadata": {},
   "source": [
    "# Preparation\n",
    "\n",
    "## Technical solutions for students\n",
    "\n",
    "I explored the option of using the University's JupyterHub instance. Unfortunately the machine is rather limited and I don't want to limit myself to that. Before committing, I want to have a run through the course and see what resources I need. Then, I will try to coordinate with LISC and reserve a big chunk of CPUs/RAM for the days/weeks of the course. I will probably be using [The Littlest JupyterHub](https://tljh.jupyter.org/en/latest/), and running things from there.\n",
    "\n",
    "This means that I will be keeping track of the installation instructions/steps here, as well as the environment setup steps and results."
   ]
  }
 ],
 "metadata": {
  "kernelspec": {
   "display_name": "work",
   "language": "python",
   "name": "python3"
  },
  "language_info": {
   "codemirror_mode": {
    "name": "ipython",
    "version": 3
   },
   "file_extension": ".py",
   "mimetype": "text/x-python",
   "name": "python",
   "nbconvert_exporter": "python",
   "pygments_lexer": "ipython3",
   "version": "3.10.9"
  },
  "orig_nbformat": 4,
  "vscode": {
   "interpreter": {
    "hash": "64ce7fb165e1a2600518e5e3d72bce86c7114d02ad941d347db3b54b409249ec"
   }
  }
 },
 "nbformat": 4,
 "nbformat_minor": 2
}

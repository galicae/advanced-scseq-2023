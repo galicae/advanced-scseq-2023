{
 "cells": [
  {
   "cell_type": "code",
   "execution_count": 1,
   "metadata": {},
   "outputs": [
    {
     "name": "stdout",
     "output_type": "stream",
     "text": [
      "2023-04-28\n"
     ]
    }
   ],
   "source": [
    "from datetime import date\n",
    "print(date.today())"
   ]
  },
  {
   "attachments": {},
   "cell_type": "markdown",
   "metadata": {},
   "source": [
    "# Concepts\n",
    "\n",
    "## Pre-course survey evaluation\n",
    "\n",
    "The University of Vienna doesn't allow the specification of prerequisites for courses; therefore, it may well be that I can't demand that students have any prior experience with single-cell transcriptomics, even though this is supposed to be an advanced course. I assessed the students' expertise and expectations via a [pre-course survey](https://forms.gle/GdBvcCoLnkAgXLy17). Here are my main takeaways:\n",
    "\n",
    "- I can't expect too much technical expertise. The students' background is very varied, ranging from experts to absolute newbies.\n",
    "- Half of the students have not attended any of the somewhat relevant courses in the faculty curriculum.\n",
    "- The students consider themselves to be at least acquainted with statistics.\n",
    "- The students mostly don't know linear algebra.\n",
    "- Programming proficiency is all over the place.\n",
    "- Students view this as an introductory course; most hope to learn something they can use in their work.\n",
    "- Students are somewhat familiar with point-and-click software.\n",
    "- Students do not use version control often or at all.\n",
    "- Many students are familiar with the command line and use it quite often.\n",
    "- Students feel relatively confident in their ability to write simple scripts, and their ability to troubleshoot online. They feel less confident about overcoming problems if they are stuck. This may indicate that they feel their programming ability is shallow.\n",
    "\n",
    "## How does that inform my preparation?\n",
    "\n",
    "Taking the inhomogeneous level of the students into account I have two choices:\n",
    "\n",
    "1. Do a two-speed course where the novices grapple with basic concepts and the advanced students can attack advanced material on their own.\n",
    "2. Keep the \"advanced\" part on the theoretical side: pick a few important topics and cover them in depth, challenging the students to understand the important concepts.\n",
    "\n",
    "Since this is a practical course it is of course also important that there is a hands-on portion, and that the students also practice the mechanical/technical aspect. However, I'd like to avoid wasting time on software installation, as everyone will be bringing their own laptops and a very different background.\n",
    "\n",
    "## What did I choose and why?\n",
    "\n",
    "For the first iteration of the course, I decided to go ahead with option 2), focus on a smaller range of topics and cover them in-depth rather than giving the students recipes. One aspect is technical; I have no clue how versed the students _really_ are, and I'd rather be positively surprised and breeze through the course than overwhelm them."
   ]
  },
  {
   "attachments": {},
   "cell_type": "markdown",
   "metadata": {},
   "source": [
    "# 0. Preparation\n",
    "\n",
    "## Technical solutions for students\n",
    "\n",
    "I explored the option of using the University's JupyterHub instance. Unfortunately the machine is rather limited and I don't want to limit myself to that. Before committing, I want to have a run through the course and see what resources I need. Then, I will try to coordinate with LISC and reserve a big chunk of CPUs/RAM for the days/weeks of the course. I will probably be using [The Littlest JupyterHub](https://tljh.jupyter.org/en/latest/), and running things from there.\n",
    "\n",
    "This means that I will be keeping track of the installation instructions/steps here, as well as the environment setup steps and results.\n",
    "\n",
    "UPDATE: the University JupyterHub is too limited in its technical specifications. Setting up on the cluster would be an option and needs to be explored. If the students' laptops are powerful enough, it might be preferable to just have the students install locally."
   ]
  },
  {
   "attachments": {},
   "cell_type": "markdown",
   "metadata": {},
   "source": [
    "# 1. Normalisation\n",
    "\n",
    "Objectives: \n",
    "\n",
    "1. Explain rationale behind normalisation/variance stabilisation\n",
    "1. List options for normalisation/variance stabilisation\n",
    "1. Explain their preference for one\n",
    "1. Normalise a dataset\n",
    "1. Demonstrate that the normalisation achieved the intended effect\n",
    "\n",
    "### 1.1 Why is normalisation important?\n",
    "\n",
    "- have students run without normalisation and see what happens.\n",
    "- does normalisation distort/enhance biological signal?\n",
    "- literature about normalisation:\n",
    "    - [Comparison of transformations for single-cell RNA-seq data](https://www.nature.com/articles/s41592-023-01814-1)\n",
    "    - [Validation of noise models for single-cell transcriptomics](https://www.nature.com/articles/nmeth.2930)\n",
    "    - [The triumphs and limitations of computational methods for scRNA-seq](https://www.nature.com/articles/s41592-021-01171-x)\n",
    "\n",
    "### 1.2 How do we normalise?\n",
    "\n",
    "- challenge them to think about what we need. What does it mean if we normalise?\n",
    "- What do we want to achieve with normalisation? Do we get it?\n",
    "- Literature:\n",
    "    - [Normalisation of single-cell RNA-seq counts by log(x+1)](https://academic.oup.com/bioinformatics/article/37/15/2223/6155989)\n",
    "    - [Normalization and variance stabilization of single-cell RNA-seq data using regularized negative binomial regression](https://genomebiology.biomedcentral.com/articles/10.1186/s13059-019-1874-1)\n",
    "    - [Depth normalization for single-cell genomics count data](https://www.biorxiv.org/content/10.1101/2022.05.06.490859v1.full)\n",
    "\n",
    "### 1.3 How do we evaluate if it worked?\n",
    "\n",
    "- gold standard\n",
    "- simulated data\n",
    "- expert knowledge"
   ]
  },
  {
   "attachments": {},
   "cell_type": "markdown",
   "metadata": {},
   "source": [
    "# 2. Clustering\n",
    "\n",
    "Objectives: \n",
    "\n",
    "1. List some definitions of \"cell type\"\n",
    "1. Explain what clustering is and why it makes sense for scRNA-seq.\n",
    "1. How do we get from a cells $\\times$ genes matrix to a clustering?\n",
    "1. List ways of calculating cell-cell similarity\n",
    "1. Explain their preference for one\n",
    "1. Produce a cell type tree\n",
    "1. Work with the CT tree to identify putative CT families"
   ]
  },
  {
   "attachments": {},
   "cell_type": "markdown",
   "metadata": {},
   "source": [
    "# 3. Integration\n",
    "\n",
    "Objectives: \n",
    "\n",
    "1. List possible sources of differences between single-cell datasets\n",
    "1. Explain why these differences may lead to problems, i.e. in cell type detection or diff. gene expression\n",
    "1. List the main strategies for dataset integration\n",
    "    - global models\n",
    "    - linear embedding models\n",
    "    - graph-based methods\n",
    "    - deep learning\n",
    "1. Find and parse recent benchmarking publications\n",
    "1. Explain their preference for a benchmarking strategy/method\n",
    "1. Run integration method on dataset\n",
    "1. Demonstrate that integration achieved the intended effect\n",
    "\n",
    "### 3.1 Why is integration needed?\n",
    "\n",
    "- have students run without integration and see what happens\n",
    "- construct possible scenarios/experimental designs that could lead to batch effects\n",
    "- take away lessons for experimental design. Are there ways to prevent batch effects?\n",
    "\n",
    "### 3.2 How do we integrate?\n",
    "\n",
    "- work on gold standard (HCA or MCA)\n",
    "- run different tools (at least in Python ecosystem):\n",
    "    - BBKNN\n",
    "    - MNN\n",
    "    - pyHarmony\n",
    "    - pyLiger\n",
    "    - scVI\n",
    "    - scANVI\n",
    "\n",
    "What do we learn from the integrated data that we couldn't learn before?\n",
    "\n",
    "### 3.3 How do we evaluate if it worked?\n",
    "\n",
    "- discuss with students: What would we expect? How would we measure it?\n",
    "- use [`scib`](https://github.com/theislab/scib) from [Luecken _et al._ 2021](https://www.nature.com/articles/s41592-021-01336-8)\n",
    "- see how homogeneous each cluster is before/after\n",
    "- HVG conservation before/after\n",
    "- run Alison's method (z-scores) as baseline integration\n",
    "- compare to \"no integration at all\""
   ]
  },
  {
   "attachments": {},
   "cell_type": "markdown",
   "metadata": {},
   "source": [
    "# 4. Cross-species comparison\n",
    "\n",
    "Objectives:\n",
    "\n",
    "- List possible approaches for (pairwise) cross-species comparisons\n",
    "- List pros and cons of each\n",
    "- Explain how gene homology, conservation of expression complicate cross-species comparisons\n",
    "- Outline possible strategies to account for that\n",
    "- Run manual comparisons of various marker genes\n",
    "- Run SAMap and visualise cluster similarity matrix\n",
    "\n",
    "### How do we integrate?\n",
    "\n",
    "- manual: compare marker genes for selected cluster pairs between (closely?) related species\n",
    "- 1-1 orthologs (subset and integrate as in #3)\n",
    "- SAMap\n",
    "- Literature:\n",
    "    - [Benchmarking strategies for cross-species integration of single-cell RNA-sequencing data](https://www.biorxiv.org/content/10.1101/2022.09.27.509674v2)\n",
    "\n",
    "### What do we learn?\n",
    "\n",
    "How does integration of scRNA-seq data help us form and validate evolutionary hypotheses?"
   ]
  }
 ],
 "metadata": {
  "kernelspec": {
   "display_name": "work",
   "language": "python",
   "name": "python3"
  },
  "language_info": {
   "codemirror_mode": {
    "name": "ipython",
    "version": 3
   },
   "file_extension": ".py",
   "mimetype": "text/x-python",
   "name": "python",
   "nbconvert_exporter": "python",
   "pygments_lexer": "ipython3",
   "version": "3.10.9"
  },
  "orig_nbformat": 4,
  "vscode": {
   "interpreter": {
    "hash": "64ce7fb165e1a2600518e5e3d72bce86c7114d02ad941d347db3b54b409249ec"
   }
  }
 },
 "nbformat": 4,
 "nbformat_minor": 2
}
